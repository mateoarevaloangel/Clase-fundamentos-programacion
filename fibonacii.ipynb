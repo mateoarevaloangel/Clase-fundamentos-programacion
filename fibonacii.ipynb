{
 "cells": [
  {
   "cell_type": "code",
   "execution_count": null,
   "id": "0a598b15-09ca-4750-a71e-debb70efe5e5",
   "metadata": {},
   "outputs": [],
   "source": [
    "a, b = 1,2\n",
    "sum_pares= 0\n",
    "while b<= 4000000:\n",
    "    "
   ]
  },
  {
   "cell_type": "code",
   "execution_count": 21,
   "id": "f5a7c497-ee9c-44c0-b92e-449f4ca675f8",
   "metadata": {
    "tags": []
   },
   "outputs": [
    {
     "name": "stdout",
     "output_type": "stream",
     "text": [
      "the result is:\n",
      "3524578\n"
     ]
    }
   ],
   "source": [
    "a, b,aux = 1,2,0\n",
    "count= 0\n",
    "while b<= 4000000:\n",
    "    count+=1\n",
    "    aux=b\n",
    "    b=a+b\n",
    "    a=aux\n",
    "    #if count>200:\n",
    "    #    c=4000001\n",
    "    #print(b)\n",
    "print(\"the result is:\")\n",
    "print(a)\n",
    "    \n",
    "    \n",
    "    "
   ]
  },
  {
   "cell_type": "code",
   "execution_count": 23,
   "id": "d4201d92-bae5-4ecf-aac8-4c184e92b353",
   "metadata": {
    "tags": []
   },
   "outputs": [],
   "source": [
    "def printFibonacci(limit):\n",
    "    a, b,aux = 1,2,0\n",
    "    count= 0\n",
    "    while b<= limit:\n",
    "        count+=1\n",
    "        aux=b\n",
    "        b=a+b\n",
    "        a=aux\n",
    "        print(b)\n",
    "    "
   ]
  },
  {
   "cell_type": "code",
   "execution_count": 26,
   "id": "5f32ada8-f68a-42e8-885d-b5cbaf03c4da",
   "metadata": {
    "tags": []
   },
   "outputs": [
    {
     "name": "stdout",
     "output_type": "stream",
     "text": [
      "3\n",
      "5\n",
      "8\n",
      "13\n",
      "21\n",
      "34\n",
      "55\n",
      "89\n",
      "144\n",
      "233\n",
      "377\n",
      "610\n",
      "987\n",
      "1597\n",
      "2584\n",
      "4181\n",
      "6765\n",
      "10946\n",
      "17711\n",
      "28657\n",
      "46368\n",
      "75025\n",
      "121393\n",
      "196418\n",
      "317811\n",
      "514229\n"
     ]
    }
   ],
   "source": [
    "printFibonacci(500000)"
   ]
  },
  {
   "cell_type": "code",
   "execution_count": 8,
   "id": "feec8632-6818-4efa-b27c-73bc9e77f53e",
   "metadata": {
    "tags": []
   },
   "outputs": [],
   "source": [
    "import matplotlib.pyplot as plt\n",
    "import numpy as np\n",
    "\n",
    "def printFibonacciArray(limit):\n",
    "    y=[]\n",
    "    x=[]\n",
    "    a, b,aux = 1,2,0\n",
    "    count= 0\n",
    "    while b<= limit:\n",
    "        count+=1\n",
    "        aux=b\n",
    "        b=a+b\n",
    "        a=aux\n",
    "        y.append(b)\n",
    "        x.append(count)\n",
    "    return(x,y)\n",
    "\n",
    "def plotFionachi(limit):\n",
    "    x,y= printFibonacciArray(limit)\n",
    "    xpoints = x\n",
    "    ypoints = y\n",
    "\n",
    "    plt.plot(xpoints, ypoints)\n",
    "    plt.show()\n",
    "\n"
   ]
  },
  {
   "cell_type": "code",
   "execution_count": 9,
   "id": "bb398734-14b4-4716-a280-c45faaa90c96",
   "metadata": {
    "tags": []
   },
   "outputs": [
    {
     "data": {
      "image/png": "[encoded data removed]",
      "text/plain": [
       "<Figure size 640x480 with 1 Axes>"
      ]
     },
     "metadata": {},
     "output_type": "display_data"
    }
   ],
   "source": [
    "plotFionachi(4000000)"
   ]
  },
  {
   "cell_type": "code",
   "execution_count": 12,
   "id": "8052f6c2-84b3-4750-8aec-4e042b5df05c",
   "metadata": {},
   "outputs": [
    {
     "name": "stdout",
     "output_type": "stream",
     "text": [
      "pygame 2.6.1 (SDL 2.28.4, Python 3.11.5)\n",
      "Hello from the pygame community. https://www.pygame.org/contribute.html\n"
     ]
    },
    {
     "ename": "NameError",
     "evalue": "name 'dibujar_serpiente' is not defined",
     "output_type": "error",
     "traceback": [
      "\u001b[1;31m---------------------------------------------------------------------------\u001b[0m",
      "\u001b[1;31mNameError\u001b[0m                                 Traceback (most recent call last)",
      "Cell \u001b[1;32mIn[12], line 41\u001b[0m\n\u001b[0;32m     36\u001b[0m \u001b[38;5;66;03m# Actualización\u001b[39;00m\n\u001b[0;32m     37\u001b[0m \u001b[38;5;66;03m# ... (Código para actualizar la posición de la serpiente, el alimento, etc.)\u001b[39;00m\n\u001b[0;32m     38\u001b[0m \n\u001b[0;32m     39\u001b[0m \u001b[38;5;66;03m# Dibujo\u001b[39;00m\n\u001b[0;32m     40\u001b[0m screen\u001b[38;5;241m.\u001b[39mfill(blanco) \u001b[38;5;66;03m# Llenar la pantalla de blanco\u001b[39;00m\n\u001b[1;32m---> 41\u001b[0m dibujar_serpiente(tamaño_bloque, lista_serpiente)\n\u001b[0;32m     42\u001b[0m dibujar_alimento(tamaño_bloque, alimento_x, alimento_y)\n\u001b[0;32m     43\u001b[0m pygame\u001b[38;5;241m.\u001b[39mdisplay\u001b[38;5;241m.\u001b[39mflip() \u001b[38;5;66;03m# Actualizar la pantalla\u001b[39;00m\n",
      "\u001b[1;31mNameError\u001b[0m: name 'dibujar_serpiente' is not defined"
     ]
    }
   ],
   "source": []
  },
  {
   "cell_type": "code",
   "execution_count": 13,
   "id": "a313b6e8-60dd-4ed4-98b7-98cd3598a443",
   "metadata": {
    "tags": []
   },
   "outputs": [
    {
     "ename": "Terminator",
     "evalue": "",
     "output_type": "error",
     "traceback": [
      "\u001b[1;31m---------------------------------------------------------------------------\u001b[0m",
      "\u001b[1;31mTerminator\u001b[0m                                Traceback (most recent call last)",
      "Cell \u001b[1;32mIn[13], line 158\u001b[0m\n\u001b[0;32m    156\u001b[0m \u001b[38;5;66;03m#Ciclo permanente\u001b[39;00m\n\u001b[0;32m    157\u001b[0m \u001b[38;5;28;01mwhile\u001b[39;00m \u001b[38;5;28;01mTrue\u001b[39;00m:\n\u001b[1;32m--> 158\u001b[0m     window\u001b[38;5;241m.\u001b[39mupdate()                     \u001b[38;5;66;03m#Actualizar la pantalla\u001b[39;00m\n\u001b[0;32m    160\u001b[0m     borde()\n\u001b[0;32m    161\u001b[0m     colisionComida()                    \u001b[38;5;66;03m#Funcion que se ejecuta cuando toca la comida\u001b[39;00m\n",
      "File \u001b[1;32m~\\anaconda3\\Lib\\turtle.py:1304\u001b[0m, in \u001b[0;36mTurtleScreen.update\u001b[1;34m(self)\u001b[0m\n\u001b[0;32m   1302\u001b[0m \u001b[38;5;28mself\u001b[39m\u001b[38;5;241m.\u001b[39m_tracing \u001b[38;5;241m=\u001b[39m \u001b[38;5;28;01mTrue\u001b[39;00m\n\u001b[0;32m   1303\u001b[0m \u001b[38;5;28;01mfor\u001b[39;00m t \u001b[38;5;129;01min\u001b[39;00m \u001b[38;5;28mself\u001b[39m\u001b[38;5;241m.\u001b[39mturtles():\n\u001b[1;32m-> 1304\u001b[0m     t\u001b[38;5;241m.\u001b[39m_update_data()\n\u001b[0;32m   1305\u001b[0m     t\u001b[38;5;241m.\u001b[39m_drawturtle()\n\u001b[0;32m   1306\u001b[0m \u001b[38;5;28mself\u001b[39m\u001b[38;5;241m.\u001b[39m_tracing \u001b[38;5;241m=\u001b[39m tracing\n",
      "File \u001b[1;32m~\\anaconda3\\Lib\\turtle.py:2647\u001b[0m, in \u001b[0;36mRawTurtle._update_data\u001b[1;34m(self)\u001b[0m\n\u001b[0;32m   2646\u001b[0m \u001b[38;5;28;01mdef\u001b[39;00m \u001b[38;5;21m_update_data\u001b[39m(\u001b[38;5;28mself\u001b[39m):\n\u001b[1;32m-> 2647\u001b[0m     \u001b[38;5;28mself\u001b[39m\u001b[38;5;241m.\u001b[39mscreen\u001b[38;5;241m.\u001b[39m_incrementudc()\n\u001b[0;32m   2648\u001b[0m     \u001b[38;5;28;01mif\u001b[39;00m \u001b[38;5;28mself\u001b[39m\u001b[38;5;241m.\u001b[39mscreen\u001b[38;5;241m.\u001b[39m_updatecounter \u001b[38;5;241m!=\u001b[39m \u001b[38;5;241m0\u001b[39m:\n\u001b[0;32m   2649\u001b[0m         \u001b[38;5;28;01mreturn\u001b[39;00m\n",
      "File \u001b[1;32m~\\anaconda3\\Lib\\turtle.py:1293\u001b[0m, in \u001b[0;36mTurtleScreen._incrementudc\u001b[1;34m(self)\u001b[0m\n\u001b[0;32m   1291\u001b[0m \u001b[38;5;28;01mif\u001b[39;00m \u001b[38;5;129;01mnot\u001b[39;00m TurtleScreen\u001b[38;5;241m.\u001b[39m_RUNNING:\n\u001b[0;32m   1292\u001b[0m     TurtleScreen\u001b[38;5;241m.\u001b[39m_RUNNING \u001b[38;5;241m=\u001b[39m \u001b[38;5;28;01mTrue\u001b[39;00m\n\u001b[1;32m-> 1293\u001b[0m     \u001b[38;5;28;01mraise\u001b[39;00m Terminator\n\u001b[0;32m   1294\u001b[0m \u001b[38;5;28;01mif\u001b[39;00m \u001b[38;5;28mself\u001b[39m\u001b[38;5;241m.\u001b[39m_tracing \u001b[38;5;241m>\u001b[39m \u001b[38;5;241m0\u001b[39m:\n\u001b[0;32m   1295\u001b[0m     \u001b[38;5;28mself\u001b[39m\u001b[38;5;241m.\u001b[39m_updatecounter \u001b[38;5;241m+\u001b[39m\u001b[38;5;241m=\u001b[39m \u001b[38;5;241m1\u001b[39m\n",
      "\u001b[1;31mTerminator\u001b[0m: "
     ]
    }
   ],
   "source": [
    "import turtle                           #La libreria turtle ayuda a construir la interfaz gráfica\n",
    "import time                             #Para obtenier el tiempo\n",
    "import random                           #Para usar numeros random\n",
    "\n",
    "posponer = 0.1\n",
    "puntaje = 0\n",
    "maxPuntaje = 0\n",
    "\n",
    "#Configuración\n",
    "window = turtle.Screen()                #Crea una ventana nueva\n",
    "window.title('Snake')                   #Ponemos titulo\n",
    "window.bgcolor('#353535')               #Color de fondo\n",
    "window.setup(width=600,height=600)      #Redimensionar pantalla\n",
    "window.tracer(0)                        #Ayuda a hacer la animación mas placentera\n",
    "\n",
    "#Cabeza de la serpiente\n",
    "cabeza = turtle.Turtle()                #Crea un objeto para mostrar en pantalla\n",
    "cabeza.speed(0)                         #Se muestra al inciar\n",
    "cabeza.shape('square')                  #Se le asigna forma de cuadrado, por defecto es 20x20 pixeles\n",
    "cabeza.color('#75C46D')                 #Color a la cabeza\n",
    "cabeza.penup()                          #Elimina el rastro del objeto\n",
    "cabeza.goto(0,0)                        #Centra el objeto\n",
    "cabeza.direction = 'stop'               #Asigna direccion, en este caso estatico\n",
    "\n",
    "#Comida\n",
    "comida = turtle.Turtle()\n",
    "comida.speed(0)\n",
    "comida.shape('circle')\n",
    "comida.color('#D12D2D')\n",
    "comida.penup()\n",
    "comida.goto(0,100)\n",
    "\n",
    "#Texto para el puntaje\n",
    "texto = turtle.Turtle()\n",
    "texto.speed(0)\n",
    "texto.color('white')\n",
    "texto.penup()\n",
    "texto.hideturtle()\n",
    "texto.goto(0,260)\n",
    "texto.write('Puntaje:0     Máximo puntaje: 0', align='center', font=('Courier', 20, 'normal'))\n",
    "\n",
    "#Cuerpo de la serpiende\n",
    "cuerpo = []                             #Una lista que almacena cada segmento\n",
    "colores = [(109,160,104),(104,142,160)]\n",
    "\n",
    "#Funciones\n",
    "\n",
    "def printText():\n",
    "\n",
    "    global  maxPuntaje\n",
    "    if puntaje>maxPuntaje:\n",
    "        maxPuntaje = puntaje\n",
    "    texto.clear()\n",
    "    texto.write(f'Puntaje:{puntaje}     Máximo puntaje: {maxPuntaje}', align='center', font=('Courier', 20, 'normal'))\n",
    "\n",
    "#Definir cada movimiento\n",
    "def arriba():\n",
    "    cabeza.direction = 'up'\n",
    "def abajo():\n",
    "    cabeza.direction = 'down'\n",
    "def izquierda():\n",
    "    cabeza.direction = 'left'\n",
    "def derecha():\n",
    "    cabeza.direction = 'right'\n",
    "\n",
    "#Ejecuta el movimiento\n",
    "def movimiento():\n",
    "    if cabeza.direction == 'up':        #Si la direccion es hacia arriba\n",
    "        y =  cabeza.ycor()              #Obtiene la coordena Y\n",
    "        cabeza.sety(y + 20)             #Actualiza la posición Y\n",
    "\n",
    "    elif cabeza.direction == 'down':\n",
    "        y =  cabeza.ycor()              #Obtiene la coordena Y\n",
    "        cabeza.sety(y - 20)\n",
    "\n",
    "    elif cabeza.direction == 'left':\n",
    "        x =  cabeza.xcor()              #Obtiene la coordena X\n",
    "        cabeza.setx(x - 20)\n",
    "\n",
    "    elif cabeza.direction == 'right':\n",
    "        x =  cabeza.xcor()              #Obtiene la coordena X\n",
    "        cabeza.setx(x + 20)\n",
    "\n",
    "#Creacion del cuerpo\n",
    "def crearSegmento():\n",
    "    global puntaje\n",
    "    segmento = turtle.Turtle()\n",
    "    turtle.colormode(255)\n",
    "    segmento.speed(0)\n",
    "    segmento.shape('square')\n",
    "    segmento.color(random.choice(colores))\n",
    "    segmento.penup()\n",
    "    cuerpo.append(segmento)\n",
    "    puntaje += 1\n",
    "    printText()\n",
    "\n",
    "#Colisión con la comida\n",
    "def colisionComida():\n",
    "    if cabeza.distance(comida)<20:      #Se mira la distancia entre la cabeza y la comida\n",
    "        x = random.randint(-280,280)\n",
    "        y = random.randint(-280, 280)\n",
    "        comida.goto(x,y)                #Se actualiza la posición de la comida a un random\n",
    "        crearSegmento()\n",
    "\n",
    "#Mover el cuerpo\n",
    "def movCuerpo():\n",
    "    totalSeg = len(cuerpo)\n",
    "\n",
    "    #Cada elemento sigue al anterior\n",
    "    #Exepto el primero\n",
    "    for segmento in range(totalSeg-1,0,-1):     #Va desde el ultimo segmento hasta el primero\n",
    "        x = cuerpo[segmento-1].xcor()           #Detecta las coordenadas del elemento anterior\n",
    "        y = cuerpo[segmento-1].ycor()\n",
    "        cuerpo[segmento].goto(x,y)              #Se dirige a la posición del elemento anterior\n",
    "\n",
    "    if totalSeg >0:                             #Debe haber almenos un elemento para que este siga a la cabeza\n",
    "        x = cabeza.xcor()\n",
    "        y = cabeza.ycor()\n",
    "        cuerpo[0].goto(x,y)\n",
    "\n",
    "#Colisión con el borde\n",
    "def borde():\n",
    "\n",
    "    global  puntaje\n",
    "    if cabeza.xcor()<-280 or cabeza.xcor()>280 or cabeza.ycor()<-280 or cabeza.ycor()>280:\n",
    "        time.sleep(0.5)\n",
    "        cabeza.goto(0,0)\n",
    "        cabeza.direction = 'stop'\n",
    "        for segmento in cuerpo:         #Esconde los segmentos\n",
    "            segmento.goto(1000,1000)\n",
    "        cuerpo.clear()                  #Limpia la lista\n",
    "        puntaje = 0\n",
    "        printText()\n",
    "\n",
    "def mordida():\n",
    "\n",
    "    global puntaje\n",
    "    for segmento in cuerpo:\n",
    "        if cabeza.distance(segmento) < 20:\n",
    "            time.sleep(0.5)\n",
    "            cabeza.goto(0, 0)\n",
    "            cabeza.direction = 'stop'\n",
    "            for segmento in cuerpo:  # Esconde los segmentos\n",
    "                segmento.goto(1000, 1000)\n",
    "            cuerpo.clear()  # Limpia la lista\n",
    "            puntaje = 0\n",
    "            printText()\n",
    "\n",
    "#Conexion con teclado\n",
    "window.listen()                         #Está pendiente si se oprime una tecla\n",
    "window.onkeypress(arriba,'Up')          #Ejecuta la función arriba() cuando detecta up\n",
    "window.onkeypress(abajo,'Down')\n",
    "window.onkeypress(izquierda,'Left')\n",
    "window.onkeypress(derecha,'Right')\n",
    "\n",
    "#Ciclo permanente\n",
    "while True:\n",
    "    window.update()                     #Actualizar la pantalla\n",
    "\n",
    "    borde()\n",
    "    colisionComida()                    #Funcion que se ejecuta cuando toca la comida\n",
    "    mordida()\n",
    "    movCuerpo()                         #Agrega movimiento al cuerpo\n",
    "    movimiento()                        #Hace el respectivo movimiento con las teclas\n",
    "\n",
    "    time.sleep(posponer)                #Hace que se posponga por el tiempo establecido"
   ]
  },
  {
   "cell_type": "code",
   "execution_count": null,
   "id": "d5f1c26a-feb2-4a51-b364-1894cf7107b9",
   "metadata": {},
   "outputs": [],
   "source": []
  }
 ],
 "metadata": {
  "kernelspec": {
   "display_name": "Python 3 (ipykernel)",
   "language": "python",
   "name": "python3"
  },
  "language_info": {
   "codemirror_mode": {
    "name": "ipython",
    "version": 3
   },
   "file_extension": ".py",
   "mimetype": "text/x-python",
   "name": "python",
   "nbconvert_exporter": "python",
   "pygments_lexer": "ipython3",
   "version": "3.11.5"
  }
 },
 "nbformat": 4,
 "nbformat_minor": 5
}
