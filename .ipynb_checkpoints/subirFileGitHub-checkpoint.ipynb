{
 "cells": [
  {
   "cell_type": "code",
   "execution_count": null,
   "id": "0d6db8e0-1dbd-454d-851d-89bfa59b2cd4",
   "metadata": {},
   "outputs": [],
   "source": [
    "dfsdfsdfsdfs"
   ]
  },
  {
   "cell_type": "code",
   "execution_count": null,
   "id": "10d76bc1-1e1f-49da-8dd5-9bdd4c773028",
   "metadata": {},
   "outputs": [],
   "source": [
    "dsfsdfs\n",
    "dffsddfsdfs"
   ]
  }
 ],
 "metadata": {
  "kernelspec": {
   "display_name": "Python 3 (ipykernel)",
   "language": "python",
   "name": "python3"
  },
  "language_info": {
   "codemirror_mode": {
    "name": "ipython",
    "version": 3
   },
   "file_extension": ".py",
   "mimetype": "text/x-python",
   "name": "python",
   "nbconvert_exporter": "python",
   "pygments_lexer": "ipython3",
   "version": "3.12.3"
  }
 },
 "nbformat": 4,
 "nbformat_minor": 5
}
