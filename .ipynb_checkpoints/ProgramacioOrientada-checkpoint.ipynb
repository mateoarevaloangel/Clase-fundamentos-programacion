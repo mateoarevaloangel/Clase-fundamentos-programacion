{
 "cells": [
  {
   "cell_type": "code",
   "execution_count": null,
   "id": "51228b85-670e-4b8c-bd1b-7542ce802a5d",
   "metadata": {},
   "outputs": [],
   "source": [
    "Creo la clase padre"
   ]
  },
  {
   "cell_type": "code",
   "execution_count": 2,
   "id": "c3f003b2-7447-49bb-9e6c-38897d5350c2",
   "metadata": {
    "tags": []
   },
   "outputs": [],
   "source": [
    "class vehiculo:\n",
    "    modelo='2000'\n",
    "    marca='ferrari'\n"
   ]
  },
  {
   "cell_type": "code",
   "execution_count": 11,
   "id": "ea582600-50b5-4350-a7e2-9b347b84e810",
   "metadata": {
    "tags": []
   },
   "outputs": [],
   "source": [
    "class carro(vehiculo):\n",
    "    motor='t200'\n",
    "    def correr():\n",
    "        print('el motor arranco')"
   ]
  },
  {
   "cell_type": "code",
   "execution_count": 12,
   "id": "103e59ce-8df1-4d08-9539-58aa7cafc2cf",
   "metadata": {
    "tags": []
   },
   "outputs": [
    {
     "name": "stdout",
     "output_type": "stream",
     "text": [
      "el motor arranco\n"
     ]
    }
   ],
   "source": [
    "carro.modelo\n",
    "carro.marca\n",
    "carro.motor\n",
    "carro.correr()"
   ]
  },
  {
   "cell_type": "code",
   "execution_count": null,
   "id": "ca1adc47-dfc4-44fa-8b64-f9db25fd63d5",
   "metadata": {},
   "outputs": [],
   "source": []
  }
 ],
 "metadata": {
  "kernelspec": {
   "display_name": "Python 3 (ipykernel)",
   "language": "python",
   "name": "python3"
  },
  "language_info": {
   "codemirror_mode": {
    "name": "ipython",
    "version": 3
   },
   "file_extension": ".py",
   "mimetype": "text/x-python",
   "name": "python",
   "nbconvert_exporter": "python",
   "pygments_lexer": "ipython3",
   "version": "3.11.5"
  }
 },
 "nbformat": 4,
 "nbformat_minor": 5
}
