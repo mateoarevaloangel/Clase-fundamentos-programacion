{
 "cells": [
  {
   "cell_type": "markdown",
   "id": "8ab5a4d3-a3c0-4668-8bc3-bc4d82cdb312",
   "metadata": {},
   "source": [
    "# la siguite funciones para sumar numeros enteros\n",
    "#entradas numero1 numero2 son de tipo int \n",
    "# la salida tambien es una variable de tipo int"
   ]
  },
  {
   "cell_type": "code",
   "execution_count": 2,
   "id": "03d3602f-02b8-4d16-a148-e202ada158b7",
   "metadata": {
    "tags": []
   },
   "outputs": [],
   "source": [
    "def suma(num1, num2):\n",
    "    return num1+num2\n",
    "    "
   ]
  },
  {
   "cell_type": "code",
   "execution_count": 8,
   "id": "dbddd983-41da-45a7-b1ad-05ecda580b5c",
   "metadata": {
    "tags": []
   },
   "outputs": [],
   "source": [
    "EdadMateo = 28\n",
    "EdadLina = 17\n",
    "Andres =21"
   ]
  },
  {
   "cell_type": "code",
   "execution_count": 16,
   "id": "7099846b-52ca-44ab-b040-9d0e77a68e8e",
   "metadata": {
    "tags": []
   },
   "outputs": [],
   "source": [
    "def validador(edad):\n",
    "    if edad > 18:\n",
    "        print(\"es mayor de edad puede ingresar\")\n",
    "    else:\n",
    "        print(\"es menor de edad\") \n",
    "    print(\"tarea terminada\")"
   ]
  },
  {
   "cell_type": "code",
   "execution_count": 17,
   "id": "00721737-b190-49a6-98a3-6a3672b103c2",
   "metadata": {
    "tags": []
   },
   "outputs": [
    {
     "name": "stdout",
     "output_type": "stream",
     "text": [
      "es mayor de edad puede ingresar\n",
      "tarea terminada\n"
     ]
    }
   ],
   "source": [
    "validador(EdadLina)"
   ]
  },
  {
   "cell_type": "code",
   "execution_count": null,
   "id": "289cda9c-ef1b-444f-a46a-508779b26137",
   "metadata": {},
   "outputs": [],
   "source": [
    "#verificacion de formatos"
   ]
  },
  {
   "cell_type": "code",
   "execution_count": 6,
   "id": "aeda32b5-b960-4c3e-adf3-0a370b13a995",
   "metadata": {
    "tags": []
   },
   "outputs": [
    {
     "name": "stdout",
     "output_type": "stream",
     "text": [
      "el archivo facturas.txt tiene forma txt\n",
      "el archivo impuesto.txt tiene forma txt\n",
      "el archivo Ventas.txt tiene forma txt\n"
     ]
    }
   ],
   "source": [
    "listaArchivos = [\"facturas.txt\",\"impuesto.txt\",\"Ventas.txt\", \"Ventas.xml\", \"inventario.doc\"]\n",
    "for element in listaArchivos:\n",
    "    if (element.find(\"txt\")>-1):\n",
    "        print(\"el archivo {} tiene forma txt\".format(element))"
   ]
  },
  {
   "cell_type": "code",
   "execution_count": 5,
   "id": "4a432655-0a03-4598-b5d9-24b81756f68c",
   "metadata": {},
   "outputs": [
    {
     "name": "stdout",
     "output_type": "stream",
     "text": [
      "-1\n"
     ]
    }
   ],
   "source": [
    "archivo = \"invetario.tx\"\n",
    "print(archivo.find(\"txt\"))\n"
   ]
  },
  {
   "cell_type": "code",
   "execution_count": null,
   "id": "cc40c7fd-30af-46a2-a7ae-8c63d143aace",
   "metadata": {},
   "outputs": [],
   "source": []
  },
  {
   "cell_type": "code",
   "execution_count": null,
   "id": "7e92b254-5126-4a37-aef8-45b0e32ea6a6",
   "metadata": {},
   "outputs": [],
   "source": []
  }
 ],
 "metadata": {
  "kernelspec": {
   "display_name": "Python 3 (ipykernel)",
   "language": "python",
   "name": "python3"
  },
  "language_info": {
   "codemirror_mode": {
    "name": "ipython",
    "version": 3
   },
   "file_extension": ".py",
   "mimetype": "text/x-python",
   "name": "python",
   "nbconvert_exporter": "python",
   "pygments_lexer": "ipython3",
   "version": "3.11.5"
  }
 },
 "nbformat": 4,
 "nbformat_minor": 5
}
