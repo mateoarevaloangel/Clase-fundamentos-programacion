{
 "cells": [
  {
   "cell_type": "code",
   "execution_count": 3,
   "id": "e2bdb34e-adeb-493a-a7ad-b6ccee20d64b",
   "metadata": {
    "tags": []
   },
   "outputs": [],
   "source": [
    "limit = 100\n",
    "sum = 0\n",
    "multiplo1 = 10\n",
    "multiplo2 = 9"
   ]
  },
  {
   "cell_type": "code",
   "execution_count": 8,
   "id": "a3de5261-c43f-4c4c-8e79-aace782ac970",
   "metadata": {
    "tags": []
   },
   "outputs": [
    {
     "name": "stdout",
     "output_type": "stream",
     "text": [
      "False\n"
     ]
    }
   ],
   "source": [
    "print(10%3==0)"
   ]
  },
  {
   "cell_type": "code",
   "execution_count": 4,
   "id": "81868871-e7b7-43e9-9269-f2f277d5fbb5",
   "metadata": {
    "tags": []
   },
   "outputs": [
    {
     "name": "stdout",
     "output_type": "stream",
     "text": [
      "0\n",
      "1\n",
      "2\n",
      "3\n",
      "4\n",
      "5\n",
      "6\n",
      "7\n",
      "8\n",
      "9\n",
      "10\n",
      "11\n",
      "12\n",
      "13\n",
      "14\n",
      "15\n",
      "16\n",
      "17\n",
      "18\n",
      "19\n",
      "20\n",
      "21\n",
      "22\n",
      "23\n",
      "24\n",
      "25\n",
      "26\n",
      "27\n",
      "28\n",
      "29\n",
      "30\n",
      "31\n",
      "32\n",
      "33\n",
      "34\n",
      "35\n",
      "36\n",
      "37\n",
      "38\n",
      "39\n",
      "40\n",
      "41\n",
      "42\n",
      "43\n",
      "44\n",
      "45\n",
      "46\n",
      "47\n",
      "48\n",
      "49\n",
      "50\n",
      "51\n",
      "52\n",
      "53\n",
      "54\n",
      "55\n",
      "56\n",
      "57\n",
      "58\n",
      "59\n",
      "60\n",
      "61\n",
      "62\n",
      "63\n",
      "64\n",
      "65\n",
      "66\n",
      "67\n",
      "68\n",
      "69\n",
      "70\n",
      "71\n",
      "72\n",
      "73\n",
      "74\n",
      "75\n",
      "76\n",
      "77\n",
      "78\n",
      "79\n",
      "80\n",
      "81\n",
      "82\n",
      "83\n",
      "84\n",
      "85\n",
      "86\n",
      "87\n",
      "88\n",
      "89\n",
      "90\n",
      "91\n",
      "92\n",
      "93\n",
      "94\n",
      "95\n",
      "96\n",
      "97\n",
      "98\n",
      "99\n",
      "2633\n"
     ]
    }
   ],
   "source": [
    "def multiplos(limit):\n",
    "    sum=0\n",
    "    for count in range(limit):\n",
    "        if count%3==0:    \n",
    "            sum = sum+count\n",
    "        if count%5==0: \n",
    "            sum = sum+count\n",
    "    print(sum)\n",
    "    \n",
    "def multiplos(limit,multiplo=5):\n",
    "    sum=0\n",
    "    for count in range(limit):\n",
    "        if count%multiplo==0:\n",
    "            sum = sum+count\n",
    "    \n",
    "multiplos(100)\n",
    "\n",
    "        \n",
    "    "
   ]
  },
  {
   "cell_type": "code",
   "execution_count": 74,
   "id": "5901fb0d-18bd-439f-a922-801a60f89545",
   "metadata": {
    "tags": []
   },
   "outputs": [
    {
     "name": "stdout",
     "output_type": "stream",
     "text": [
      "624\n"
     ]
    }
   ],
   "source": [
    "\n",
    "\n"
   ]
  },
  {
   "cell_type": "code",
   "execution_count": null,
   "id": "fe56d651-2062-46aa-b9a1-8b122613a4e5",
   "metadata": {},
   "outputs": [],
   "source": []
  },
  {
   "cell_type": "code",
   "execution_count": null,
   "id": "a649b311-55ab-425e-8b91-938ad4cd9a2c",
   "metadata": {},
   "outputs": [],
   "source": []
  }
 ],
 "metadata": {
  "kernelspec": {
   "display_name": "Python 3 (ipykernel)",
   "language": "python",
   "name": "python3"
  },
  "language_info": {
   "codemirror_mode": {
    "name": "ipython",
    "version": 3
   },
   "file_extension": ".py",
   "mimetype": "text/x-python",
   "name": "python",
   "nbconvert_exporter": "python",
   "pygments_lexer": "ipython3",
   "version": "3.11.5"
  }
 },
 "nbformat": 4,
 "nbformat_minor": 5
}
