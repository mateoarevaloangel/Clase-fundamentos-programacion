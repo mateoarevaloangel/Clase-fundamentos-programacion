{
 "cells": [
  {
   "cell_type": "markdown",
   "id": "4b9d6c55-ffeb-48dc-b9e8-cde6565c0eb2",
   "metadata": {},
   "source": [
    "Importar las librerias necesarias "
   ]
  },
  {
   "cell_type": "code",
   "execution_count": null,
   "id": "8fd4b9d5-112c-474f-b687-692e0ca32b9a",
   "metadata": {},
   "outputs": [],
   "source": [
    "import os\n",
    "import shutil\n",
    "import schedule\n",
    "import time"
   ]
  },
  {
   "cell_type": "code",
   "execution_count": null,
   "id": "8508697c-0d41-42d9-88cc-d8ef41e63fb8",
   "metadata": {},
   "outputs": [],
   "source": [
    "def backup(src, dst):\n",
    "    # ... (same as before)\n",
    "\n",
    "def schedule_backup():\n",
    "    time = \"09:00\"  # schedule time in 24h format\n",
    "    schedule.every().day.at(time).do(backup, source, destination)\n",
    "    print(f\"Backup scheduled for {time} every day\")\n",
    "    while True:\n",
    "        schedule.run_pending()\n",
    "        time.sleep(1)\n",
    "\n",
    "if __name__ == \"__main__\":\n",
    "    source = \"path/to/source/directory\"\n",
    "    destination = \"path/to/destination/directory\"\n",
    "    schedule_backup()"
   ]
  },
  {
   "cell_type": "code",
   "execution_count": null,
   "id": "1db346cc-819e-4e6e-8c0f-d996171ea1ad",
   "metadata": {},
   "outputs": [],
   "source": [
    "def hacer_backup(origen, destino):\n",
    "    \"\"\"\n",
    "    Crea una copia de seguridad de un directorio o archivo.\n",
    "\n",
    "    Args:\n",
    "        origen: La ruta del directorio o archivo a respaldar.\n",
    "        destino: La ruta del directorio donde se guardará la copia de seguridad.\n",
    "    \"\"\"\n",
    "\n",
    "    # Obtiene la fecha y hora actual para el nombre del respaldo\n",
    "    fecha_hora = datetime.datetime.now().strftime(\"%Y%m%d_%H%M%S\")\n",
    "    nombre_respaldo = f\"backup_{fecha_hora}\"\n",
    "\n",
    "    # Crea la ruta completa del directorio de respaldo\n",
    "    ruta_destino = os.path.join(destino, nombre_respaldo)\n",
    "\n",
    "    try:\n",
    "        # Crea el directorio de respaldo si no existe\n",
    "        os.makedirs(ruta_destino, exist_ok=True)\n",
    "\n",
    "        # Copia el contenido del origen al destino\n",
    "        if os.path.isfile(origen):\n",
    "            shutil.copy2(origen, ruta_destino)  # mantiene metadatos\n",
    "        elif os.path.isdir(origen):\n",
    "            shutil.copytree(origen, os.path.join(ruta_destino, os.path.basename(origen))) # copia el directorio y su contenido\n",
    "        else:\n",
    "            print(f\"Error: {origen} no es un archivo ni un directorio.\")\n",
    "            return\n",
    "\n",
    "        print(f\"Copia de seguridad creada en: {ruta_destino}\")\n",
    "\n",
    "    except Exception as e:\n",
    "        print(f\"Error al crear la copia de seguridad: {e}\")\n",
    "\n",
    "# Ejemplo de uso\n",
    "origen = \"/ruta/a/tu/directorio/o/archivo\"  # Reemplaza con la ruta correcta\n",
    "destino = \"/ruta/donde/guardar/las/copias/de/seguridad\" # Reemplaza con la ruta correcta\n",
    "\n",
    "hacer_backup(origen, destino)"
   ]
  }
 ],
 "metadata": {
  "kernelspec": {
   "display_name": "Python 3 (ipykernel)",
   "language": "python",
   "name": "python3"
  },
  "language_info": {
   "codemirror_mode": {
    "name": "ipython",
    "version": 3
   },
   "file_extension": ".py",
   "mimetype": "text/x-python",
   "name": "python",
   "nbconvert_exporter": "python",
   "pygments_lexer": "ipython3",
   "version": "3.12.3"
  }
 },
 "nbformat": 4,
 "nbformat_minor": 5
}
